{
 "cells": [
  {
   "cell_type": "code",
   "execution_count": 164,
   "metadata": {},
   "outputs": [],
   "source": [
    "#Coded by jecs89\n",
    "#You can find more in github.com/jecs89\n",
    "#\n",
    "#Step by step from Tutorial from https://mattmazur.com/2015/03/17/a-step-by-step-backpropagation-example/\n",
    "\n",
    "import math\n",
    "import numpy as np\n",
    "\n",
    "I = np.matrix('0.05 0.10')\n",
    "W = np.matrix('0.15 0.20 0.25 0.30; 0.40 0.45 0.50 0.55')\n",
    "W = W.transpose()\n",
    "B = np.matrix('0.35 0.6')\n",
    "Y = np.matrix('0.01 0.99')"
   ]
  },
  {
   "cell_type": "code",
   "execution_count": 165,
   "metadata": {},
   "outputs": [],
   "source": [
    "def error(Y,estimated):\n",
    "    return np.power(Y[0] - estimated[0],2) + np.power(Y[1] - estimated[1],2)\n",
    "\n",
    "def sig(x):\n",
    "    return 1.0/(1.0 + np.exp(-x))"
   ]
  },
  {
   "cell_type": "code",
   "execution_count": 166,
   "metadata": {},
   "outputs": [
    {
     "name": "stdout",
     "output_type": "stream",
     "text": [
      "0.5932699921071872 0.596884378259767 0.7513650695523157 0.7729284653214625\n"
     ]
    }
   ],
   "source": [
    "h1 = I[0,0]*W[0,0] + I[0,1]*W[1,0] + 1*B[0,0]\n",
    "h2 = I[0,0]*W[2,0] + I[0,1]*W[3,0] + 1*B[0,0]\n",
    "\n",
    "o1 = sig(h1)*W[0,1] + sig(h2)*W[1,1] + 1*B[0,1]\n",
    "o2 = sig(h1)*W[2,1] + sig(h2)*W[3,1] + 1*B[0,1]\n",
    "\n",
    "print( sig(h1),sig(h2),sig(o1),sig(o2))"
   ]
  },
  {
   "cell_type": "code",
   "execution_count": 167,
   "metadata": {},
   "outputs": [
    {
     "name": "stdout",
     "output_type": "stream",
     "text": [
      "0.5932699921071872 0.18681560180895948 0.7413650695523157 0.08216704056423078 0.35891647971788465\n"
     ]
    }
   ],
   "source": [
    "o1_w5 = sig(h1)\n",
    "fo1_o1 = sig(o1)*(1.0 - sig(o1))\n",
    "E_fo1 = sig(o1) - Y[0,0]\n",
    "E_w5 = E_fo1 * fo1_o1 * o1_w5\n",
    "print(o1_w5, fo1_o1, E_fo1, E_w5, W[0,1] - 0.5*E_w5 )"
   ]
  },
  {
   "cell_type": "code",
   "execution_count": 168,
   "metadata": {},
   "outputs": [
    {
     "name": "stdout",
     "output_type": "stream",
     "text": [
      "0.596884378259767 0.18681560180895948 0.7413650695523157 0.08266762784753326 0.4086661860762334\n"
     ]
    }
   ],
   "source": [
    "o1_w6 = sig(h2)\n",
    "fo1_o1 = sig(o1)*(1.0 - sig(o1))\n",
    "E_fo1 = sig(o1) - Y[0,0]\n",
    "E_w6 = E_fo1 * fo1_o1 * o1_w6\n",
    "print(o1_w6, fo1_o1, E_fo1, E_w6, W[1,1] - 0.5*E_w6 )"
   ]
  },
  {
   "cell_type": "code",
   "execution_count": 169,
   "metadata": {},
   "outputs": [
    {
     "name": "stdout",
     "output_type": "stream",
     "text": [
      "0.5932699921071872 0.17551005281727122 -0.21707153467853746 0.08216704056423078 0.5113012702387375\n"
     ]
    }
   ],
   "source": [
    "o1_w7 = sig(h1)\n",
    "fo2_o2 = sig(o2)*(1.0 - sig(o2))\n",
    "E_fo2 = sig(o2) - Y[0,1]\n",
    "E_w7 = E_fo2 * fo2_o2 * o1_w7\n",
    "print(o1_w7, fo2_o2, E_fo2, E_w5, W[2,1] - 0.5*E_w7 )"
   ]
  },
  {
   "cell_type": "code",
   "execution_count": 170,
   "metadata": {},
   "outputs": [
    {
     "name": "stdout",
     "output_type": "stream",
     "text": [
      "0.596884378259767 0.17551005281727122 -0.21707153467853746 0.08216704056423078 0.5613701211079891\n"
     ]
    }
   ],
   "source": [
    "o1_w8 = sig(h2)\n",
    "fo2_o2 = sig(o2)*(1.0 - sig(o2))\n",
    "E_fo2 = sig(o2) - Y[0,1]\n",
    "E_w8 = E_fo2 * fo2_o2 * o1_w8\n",
    "print(o1_w8, fo2_o2, E_fo2, E_w5, W[3,1] - 0.5*E_w8 )"
   ]
  },
  {
   "cell_type": "code",
   "execution_count": 171,
   "metadata": {},
   "outputs": [
    {
     "name": "stdout",
     "output_type": "stream",
     "text": [
      "0.05539942465142279 -0.019049118258278114 0.03635030639314468 0.24130070857232525 0.05 0.00043856773447434685 0.1497807161327628\n"
     ]
    }
   ],
   "source": [
    "h1_w1 = I[0,0]\n",
    "fh1_h1 = sig(h1)*(1.0 - sig(h1))\n",
    "\n",
    "E1_fo1 = E_fo1\n",
    "E1_o1 =  E1_fo1 * fo1_o1\n",
    "o1_fh1 = W[0,1]\n",
    "E1_fh1 = E1_o1 * o1_fh1\n",
    "\n",
    "E2_fo2 = E_fo2\n",
    "E2_o2 =  E2_fo2 * fo2_o2\n",
    "o2_fh1 = W[2,1]\n",
    "E2_fh1 = E2_o2 * o2_fh1\n",
    "\n",
    "E_fh1 = E1_fh1 + E2_fh1\n",
    "E_w1 = E_fh1 * fh1_h1 * h1_w1\n",
    "print(E1_fh1, E2_fh1, E_fh1, fh1_h1, h1_w1, E_w1, W[0,0] - 0.5*E_w1 )"
   ]
  },
  {
   "cell_type": "code",
   "execution_count": 175,
   "metadata": {},
   "outputs": [
    {
     "name": "stdout",
     "output_type": "stream",
     "text": [
      "0.05539942465142279 -0.019049118258278114 0.03635030639314468 0.24130070857232525 0.05 0.0008771354689486937 0.19956143226552567\n"
     ]
    }
   ],
   "source": [
    "h1_w2 = I[0,1]\n",
    "fh1_h1 = sig(h1)*(1.0 - sig(h1))\n",
    "\n",
    "E1_fo1 = E_fo1\n",
    "E1_o1 =  E1_fo1 * fo1_o1\n",
    "o1_fh1 = W[0,1]\n",
    "E1_fh1 = E1_o1 * o1_fh1\n",
    "\n",
    "E2_fo2 = E_fo2\n",
    "E2_o2 =  E2_fo2 * fo2_o2\n",
    "o2_fh1 = W[2,1]\n",
    "E2_fh1 = E2_o2 * o2_fh1\n",
    "\n",
    "E_fh1 = E1_fh1 + E2_fh1\n",
    "E_w2 = E_fh1 * fh1_h1 * h1_w2\n",
    "print(E1_fh1, E2_fh1, E_fh1, fh1_h1, h1_w1, E_w2, W[1,0] - 0.5*E_w2 )"
   ]
  },
  {
   "cell_type": "code",
   "execution_count": 178,
   "metadata": {},
   "outputs": [
    {
     "name": "stdout",
     "output_type": "stream",
     "text": [
      "0.06232435273285064 -0.02095403008410593 0.04137032264874471 0.2406134172492184 0.05 0.0004977127352608601 0.24975114363236958\n"
     ]
    }
   ],
   "source": [
    "h2_w3 = I[0,0]\n",
    "fh2_h2 = sig(h2)*(1.0 - sig(h2))\n",
    "\n",
    "E1_fo1 = E_fo1\n",
    "E1_o1 =  E1_fo1 * fo1_o1\n",
    "o1_fh2 = W[1,1]\n",
    "E1_fh2 = E1_o1 * o1_fh2\n",
    "\n",
    "E2_fo2 = E_fo2\n",
    "E2_o2 =  E2_fo2 * fo2_o2\n",
    "o2_fh2 = W[3,1]\n",
    "E2_fh2 = E2_o2 * o2_fh2\n",
    "\n",
    "E_fh2 = E1_fh2 + E2_fh2\n",
    "E_w3 = E_fh2 * fh2_h2 * h2_w3\n",
    "print(E1_fh2, E2_fh2, E_fh2, fh2_h2, h2_w3, E_w3, W[2,0] - 0.5*E_w3 )"
   ]
  },
  {
   "cell_type": "code",
   "execution_count": 179,
   "metadata": {},
   "outputs": [
    {
     "name": "stdout",
     "output_type": "stream",
     "text": [
      "0.06232435273285064 -0.02095403008410593 0.04137032264874471 0.2406134172492184 0.1 0.0009954254705217202 0.29950228726473915\n"
     ]
    }
   ],
   "source": [
    "h2_w4 = I[0,1]\n",
    "fh2_h2 = sig(h2)*(1.0 - sig(h2))\n",
    "\n",
    "E1_fo1 = E_fo1\n",
    "E1_o1 =  E1_fo1 * fo1_o1\n",
    "o1_fh2 = W[1,1]\n",
    "E1_fh2 = E1_o1 * o1_fh2\n",
    "\n",
    "E2_fo2 = E_fo2\n",
    "E2_o2 =  E2_fo2 * fo2_o2\n",
    "o2_fh2 = W[3,1]\n",
    "E2_fh2 = E2_o2 * o2_fh2\n",
    "\n",
    "E_fh2 = E1_fh2 + E2_fh2\n",
    "E_w4 = E_fh2 * fh2_h2 * h2_w4\n",
    "print(E1_fh2, E2_fh2, E_fh2, fh2_h2, h2_w4, E_w4, W[3,0] - 0.5*E_w4 )"
   ]
  },
  {
   "cell_type": "code",
   "execution_count": null,
   "metadata": {},
   "outputs": [],
   "source": []
  },
  {
   "cell_type": "code",
   "execution_count": null,
   "metadata": {},
   "outputs": [],
   "source": []
  }
 ],
 "metadata": {
  "kernelspec": {
   "display_name": "Python 3",
   "language": "python",
   "name": "python3"
  },
  "language_info": {
   "codemirror_mode": {
    "name": "ipython",
    "version": 3
   },
   "file_extension": ".py",
   "mimetype": "text/x-python",
   "name": "python",
   "nbconvert_exporter": "python",
   "pygments_lexer": "ipython3",
   "version": "3.6.5"
  }
 },
 "nbformat": 4,
 "nbformat_minor": 2
}
